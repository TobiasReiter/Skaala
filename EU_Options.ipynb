{
 "cells": [
  {
   "cell_type": "code",
   "execution_count": null,
   "id": "initial_id",
   "metadata": {
    "collapsed": true
   },
   "outputs": [],
   "source": "# Aim is to check how well European options can be replicated by trading"
  },
  {
   "metadata": {
    "ExecuteTime": {
     "end_time": "2025-05-14T10:45:28.456513Z",
     "start_time": "2025-05-14T10:45:28.438366Z"
    }
   },
   "cell_type": "code",
   "source": [
    "import numpy as np\n",
    "import pandas as pd\n",
    "\n",
    "# Preprocess approach 1\n",
    "data = pd.read_csv('../data/csco_2025.csv')\n",
    "\n",
    "data['Date'] = pd.to_datetime(data['Date'])\n",
    "data.set_index('Date', inplace=True)\n",
    "\n",
    "prices = data['Close/Last'].values\n",
    "prices = prices[::-1]\n",
    "\n",
    "print(prices)\n",
    "\n",
    "n = prices.size\n",
    "delta_t = 1 / n\n",
    "\n",
    "start = n // 2\n",
    "i = np.arange(0, start)\n",
    "X = np.log(prices[i+1] / prices[i])\n",
    "\n",
    "sigma = np.std(X) / np.sqrt(delta_t)\n",
    "mu = np.mean(X) / delta_t + sigma**2 / 2\n",
    "\n",
    "print(\"Mu:\", mu)\n",
    "print(\"Sigma:\", sigma)"
   ],
   "id": "63a82ee39f228986",
   "outputs": [
    {
     "name": "stdout",
     "output_type": "stream",
     "text": [
      "[48.95 49.67 48.34 48.17 47.13 46.94 47.43 46.6  46.42 46.28 46.08 46.12\n",
      " 46.5  46.65 47.42 46.02 46.23 45.84 45.85 45.77 45.62 45.52 45.68 45.69\n",
      " 45.97 46.72 47.29 47.28 47.38 46.86 47.45 47.51 47.52 47.28 47.09 46.65\n",
      " 46.06 45.8  46.27 46.76 47.38 47.4  47.42 48.52 48.04 47.32 46.82 46.36\n",
      " 46.85 47.24 47.88 47.99 48.14 48.45 47.39 46.66 44.74 45.16 45.12 45.83\n",
      " 45.47 44.86 45.37 45.44 48.53 49.46 49.98 50.24 50.45 50.22 50.74 50.79\n",
      " 50.71 49.85 50.39 50.54 50.06 49.7  49.13 48.5  48.7  48.79 49.11 49.61\n",
      " 49.8  51.03 50.61 50.57 51.44 51.97 52.19 52.52 52.65 52.85 53.02 53.22\n",
      " 52.74 52.62 52.43 52.75 52.51 52.73 53.56 53.54 54.25 54.27 54.08 56.38\n",
      " 56.4  56.76 56.59 56.6  56.28 55.96 55.74 55.28 55.68 55.59 54.77 55.5\n",
      " 55.83 56.16 57.87 58.08 58.06 58.63 58.71 59.18 57.92 57.46 57.31 57.01\n",
      " 57.5  57.56 58.55 58.74 59.59 59.29 59.21 59.43 59.48 59.62 60.02 59.89\n",
      " 58.95 58.72 58.59 58.85 58.62 58.35 58.52 57.53 57.63 58.52 58.98 59.85\n",
      " 59.98 59.61 59.19 59.2  59.1  58.86 58.77 58.93 59.2  58.74 58.76 59.33\n",
      " 59.98 59.82 60.23 61.03 61.63 62.23 62.23 59.08 59.43 59.55 60.47 60.6\n",
      " 61.04 61.34 62.57 62.27 62.27 62.81 62.43 62.53 63.84 64.87 64.59 64.84\n",
      " 64.67 63.98 63.24 64.27 64.08 63.81 64.11 63.48 63.26 63.96 63.41 63.94\n",
      " 62.06 60.67 60.46 59.67 60.5  60.89 60.3  61.12 60.62 60.3  60.97 60.99\n",
      " 61.8  61.4  60.86 61.71 61.8  61.82 57.31 54.54 54.41 53.19 58.13 56.59\n",
      " 57.33 57.41 57.2  55.76 55.76 54.37 55.04 55.63 56.29 56.71 56.84 57.34\n",
      " 57.73 58.12 59.33 59.32 59.22 59.57 59.71 59.77 61.67 61.78]\n",
      "Mu: 0.3812894070673739\n",
      "Sigma: 0.2019659529136761\n"
     ]
    }
   ],
   "execution_count": 61
  },
  {
   "metadata": {
    "ExecuteTime": {
     "end_time": "2025-05-14T10:45:32.062251Z",
     "start_time": "2025-05-14T10:45:32.055924Z"
    }
   },
   "cell_type": "code",
   "source": [
    "# Preprocess approach 2\n",
    "prices = np.loadtxt(\"../data/csco_2025.csv\", delimiter=\",\", skiprows=1, usecols=1)\n",
    "\n",
    "S=prices[::-1]\n",
    "n=np.size(S)\n",
    "delta_t= 1/n\n",
    "\n",
    "start = n//2\n",
    "i=np.arange(0, start)\n",
    "X=np.log(S[i+1]/S[i])\n",
    "sigma = np.std(X)/np.sqrt(delta_t)\n",
    "mu = np.mean(X)/delta_t + sigma**2/2\n",
    "\n",
    "mu, sigma"
   ],
   "id": "b11209ae3d0f4d87",
   "outputs": [
    {
     "data": {
      "text/plain": [
       "(np.float64(0.3812894070673739), np.float64(0.2019659529136761))"
      ]
     },
     "execution_count": 62,
     "metadata": {},
     "output_type": "execute_result"
    }
   ],
   "execution_count": 62
  },
  {
   "metadata": {
    "ExecuteTime": {
     "end_time": "2025-05-14T10:45:38.550452Z",
     "start_time": "2025-05-14T10:45:38.546582Z"
    }
   },
   "cell_type": "code",
   "source": [
    "from Helpers.BSFormulas import delta_Put, Put\n",
    "\n",
    "D = 0\n",
    "S0=S[start]\n",
    "E=S0\n",
    "T=1/2 # Half a year\n",
    "r = 0.03\n",
    "price_put = Put(S0, E, T, r, sigma, D)\n",
    "print(\"Put price:\", price_put)\n",
    "eta = delta_Put(S0, E, T, r, sigma, D)\n",
    "print(\"eta:\", eta)"
   ],
   "id": "563b99e654d2e0b6",
   "outputs": [
    {
     "name": "stdout",
     "output_type": "stream",
     "text": [
      "Put price: 2.894458884706488\n",
      "eta: -0.42997441229533984\n"
     ]
    }
   ],
   "execution_count": 64
  },
  {
   "metadata": {
    "ExecuteTime": {
     "end_time": "2025-05-14T10:45:40.073077Z",
     "start_time": "2025-05-14T10:45:40.063518Z"
    }
   },
   "cell_type": "code",
   "source": [
    "# Performing trade simulation | European option\n",
    "\n",
    "# self-financing portfolio\n",
    "portfolio_value = np.zeros(n-start)\n",
    "portfolio_value[0] = price_put\n",
    "\n",
    "T_values = np.linspace(T, 0, n-start) # how much time is left until maturity\n",
    "dt = T/(n-1-start) # delta time\n",
    "\n",
    "current_portfolio_value = price_put\n",
    "\n",
    "for t in range(start, n-1):\n",
    "    # calc, how much time is until the expiration\n",
    "    T_current = T_values[t-start]\n",
    "\n",
    "    # How many shares we should hold in our portfolio\n",
    "    eta = delta_Put(S[t], E, T_current, r, sigma, D)  # Key factor, we need to compute it at each time step\n",
    "\n",
    "    # Compute the portfolio value at the next time step (next day)\n",
    "    current_portfolio_value = current_portfolio_value + (current_portfolio_value-eta*S[t])*r*dt + D*eta*S[t]*dt + eta*(S[t+1]-S[t])\n",
    "\n",
    "    # Updating the portfolio value\n",
    "    portfolio_value[t-start+1] = current_portfolio_value\n",
    "\n",
    "payoff_values = np.maximum(E-S[start:], 0)"
   ],
   "id": "fa90a05c29de3c01",
   "outputs": [],
   "execution_count": 65
  },
  {
   "metadata": {
    "ExecuteTime": {
     "end_time": "2025-05-14T10:45:42.290770Z",
     "start_time": "2025-05-14T10:45:42.287698Z"
    }
   },
   "cell_type": "code",
   "source": "print(\"Portfolio values:\", portfolio_value) # Loss",
   "id": "eb4e4dcf3f2db722",
   "outputs": [
    {
     "name": "stdout",
     "output_type": "stream",
     "text": [
      "Portfolio values: [ 2.89445888  2.86346059  2.66638482  3.17966157  3.39718893  3.47419152\n",
      "  3.62684392  3.38014049  3.35468512  2.87820028  2.79871501  2.43875636\n",
      "  2.55789202  2.59317766  2.50723958  2.49064292  2.4388241   2.28758384\n",
      "  2.33819823  2.69171441  2.7914603   2.85091726  2.74043871  2.84156237\n",
      "  2.96306761  2.88980939  3.33203474  3.28620228  2.85207911  2.65123161\n",
      "  2.28920164  2.24347205  2.38261486  2.54830096  2.5474463   2.59159514\n",
      "  2.69440138  2.73630573  2.67037408  2.55905224  2.7508322   2.74554327\n",
      "  2.50093983  2.24220653  2.30385933  2.15283427  1.87320607  1.68936327\n",
      "  1.52357982  1.52565415  2.31596205  2.17274124  2.12812853  1.77176586\n",
      "  1.73058131  1.5881119   1.49902276  1.14655169  1.21646251  1.21841625\n",
      "  1.09142999  1.17390244  1.15288913  0.8627375   0.69405617  0.73068813\n",
      "  0.69815602  0.72043113  0.81036872  0.92402388  0.73956204  0.76687229\n",
      "  0.8066569   0.76245342  0.85063828  0.88750319  0.77050499  0.84760306\n",
      "  0.76483961  1.01930955  1.32897442  1.39564596  1.65047823  1.34075971\n",
      "  1.22065741  1.39136649  1.12619287  1.26149196  1.35986165  1.1461462\n",
      "  1.14286254  0.92822466  1.0139849   1.14217106  0.91429202  0.89728918\n",
      "  0.89491436  1.76980989  3.44264719  3.55880516  4.61555523  0.03025315\n",
      "  0.84278959  0.33223709  0.28688157  0.42061893  1.35435779  1.35994323\n",
      "  2.4937137   1.8834678   1.36626935  0.81133091  0.48296642  0.38988941\n",
      "  0.01979384 -0.24487208 -0.48947005 -1.18449527 -1.17866716 -1.14232243\n",
      " -1.26254669 -1.29686279 -1.30746405 -1.57098908 -1.571183  ]\n"
     ]
    }
   ],
   "execution_count": 66
  },
  {
   "metadata": {
    "ExecuteTime": {
     "end_time": "2025-05-14T10:45:43.300731Z",
     "start_time": "2025-05-14T10:45:43.296399Z"
    }
   },
   "cell_type": "code",
   "source": "print(\"Payoff values:\", payoff_values)",
   "id": "f656466675e262de",
   "outputs": [
    {
     "name": "stdout",
     "output_type": "stream",
     "text": [
      "Payoff values: [0.   0.   0.   0.71 1.17 1.32 1.62 1.13 1.07 0.08 0.   0.   0.   0.\n",
      " 0.   0.   0.   0.   0.   0.   0.   0.04 0.   0.01 0.28 0.11 1.1  1.\n",
      " 0.11 0.   0.   0.   0.   0.   0.   0.   0.   0.   0.   0.   0.   0.\n",
      " 0.   0.   0.   0.   0.   0.   0.   0.   0.   0.   0.   0.   0.   0.\n",
      " 0.   0.   0.   0.   0.   0.   0.   0.   0.   0.   0.   0.   0.   0.\n",
      " 0.   0.   0.   0.   0.   0.   0.   0.   0.   0.   0.   0.   0.   0.\n",
      " 0.   0.   0.   0.   0.   0.   0.   0.   0.   0.   0.   0.   0.   1.32\n",
      " 4.09 4.22 5.44 0.5  2.04 1.3  1.22 1.43 2.87 2.87 4.26 3.59 3.   2.34\n",
      " 1.92 1.79 1.29 0.9  0.51 0.   0.   0.   0.   0.   0.   0.   0.  ]\n"
     ]
    }
   ],
   "execution_count": 67
  },
  {
   "metadata": {
    "ExecuteTime": {
     "end_time": "2025-05-14T10:40:01.160808Z",
     "start_time": "2025-05-14T10:40:01.158447Z"
    }
   },
   "cell_type": "code",
   "source": [
    "# American put: Need to use solver for computing option price and values of the derivative at different time moments\n",
    "# Good approach should be to use solver once to compute price of the option and all derivatives."
   ],
   "id": "f32c5ef1664dd914",
   "outputs": [],
   "execution_count": 57
  }
 ],
 "metadata": {
  "kernelspec": {
   "display_name": "Python 3",
   "language": "python",
   "name": "python3"
  },
  "language_info": {
   "codemirror_mode": {
    "name": "ipython",
    "version": 2
   },
   "file_extension": ".py",
   "mimetype": "text/x-python",
   "name": "python",
   "nbconvert_exporter": "python",
   "pygments_lexer": "ipython2",
   "version": "2.7.6"
  }
 },
 "nbformat": 4,
 "nbformat_minor": 5
}
